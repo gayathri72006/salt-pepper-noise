{
 "cells": [
  {
   "cell_type": "code",
   "execution_count": 1,
   "id": "00407131-f4ec-4937-8782-d617e0d2fffc",
   "metadata": {},
   "outputs": [],
   "source": [
    "import cv2\n",
    "import numpy as np\n",
    "import pandas as pd"
   ]
  },
  {
   "cell_type": "code",
   "execution_count": 2,
   "id": "e9ef4e83-ed9a-476b-9902-12de0680e80f",
   "metadata": {},
   "outputs": [],
   "source": [
    "image=cv2.imread(\"C:/Users/Administrator/Pictures/project.png\")"
   ]
  },
  {
   "cell_type": "code",
   "execution_count": 3,
   "id": "a748cc7f-2250-44ae-9b09-fb76905814d2",
   "metadata": {},
   "outputs": [],
   "source": [
    "MEDIAN=cv2.imread('clearimage.jpg')"
   ]
  },
  {
   "cell_type": "code",
   "execution_count": 4,
   "id": "324ef298-8fe6-40b8-a79c-c0c6aceeb9d5",
   "metadata": {},
   "outputs": [],
   "source": [
    "bilat=cv2.bilateralFilter(MEDIAN,10,15,17)"
   ]
  },
  {
   "cell_type": "code",
   "execution_count": 5,
   "id": "47f00cb9-b2f8-412f-a25c-7b5b265f5cad",
   "metadata": {},
   "outputs": [],
   "source": [
    "cv2.imshow(\"image\",image)\n",
    "cv2.waitKey(0)\n",
    "cv2.imshow(\"BLUR-BILAT\",bilat)\n",
    "cv2.waitKey(0)\n",
    "cv2.destroyAllWindows()"
   ]
  },
  {
   "cell_type": "code",
   "execution_count": null,
   "id": "7eb9b925-2006-45ab-a71e-19c6f56ded4a",
   "metadata": {},
   "outputs": [],
   "source": []
  },
  {
   "cell_type": "code",
   "execution_count": null,
   "id": "dd328a78-64dc-4448-bdb4-fd222632bff5",
   "metadata": {},
   "outputs": [],
   "source": []
  },
  {
   "cell_type": "code",
   "execution_count": null,
   "id": "78da2727-f8fb-4277-b3fb-cc3619484576",
   "metadata": {},
   "outputs": [],
   "source": []
  },
  {
   "cell_type": "code",
   "execution_count": null,
   "id": "7483ad7d-9075-4fcd-b6a4-4a459e3a347c",
   "metadata": {},
   "outputs": [],
   "source": []
  },
  {
   "cell_type": "code",
   "execution_count": null,
   "id": "6c8d53a8-2cd5-4301-92b6-fbd303cb87ca",
   "metadata": {},
   "outputs": [],
   "source": []
  },
  {
   "cell_type": "code",
   "execution_count": null,
   "id": "08426906-b040-4c66-bbb8-3a82f9fa886d",
   "metadata": {},
   "outputs": [],
   "source": []
  }
 ],
 "metadata": {
  "kernelspec": {
   "display_name": "Python 3 (ipykernel)",
   "language": "python",
   "name": "python3"
  },
  "language_info": {
   "codemirror_mode": {
    "name": "ipython",
    "version": 3
   },
   "file_extension": ".py",
   "mimetype": "text/x-python",
   "name": "python",
   "nbconvert_exporter": "python",
   "pygments_lexer": "ipython3",
   "version": "3.12.11"
  }
 },
 "nbformat": 4,
 "nbformat_minor": 5
}
