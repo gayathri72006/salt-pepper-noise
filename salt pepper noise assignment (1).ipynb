{
 "cells": [
  {
   "cell_type": "code",
   "execution_count": 1,
   "id": "00407131-f4ec-4937-8782-d617e0d2fffc",
   "metadata": {},
   "outputs": [],
   "source": [
    "import cv2\n",
    "import numpy as np\n",
    "import pandas as pd"
   ]
  },
  {
   "cell_type": "code",
   "execution_count": 2,
   "id": "e9ef4e83-ed9a-476b-9902-12de0680e80f",
   "metadata": {},
   "outputs": [],
   "source": [
    "image=cv2.imread(\"C://Users//Administrator//Pictures//project.png\")"
   ]
  },
  {
   "cell_type": "code",
   "execution_count": 3,
   "id": "811ba726-dac6-485f-918e-39d4ea513b26",
   "metadata": {},
   "outputs": [],
   "source": [
    "med=cv2.medianBlur(image,3)"
   ]
  },
  {
   "cell_type": "code",
   "execution_count": 4,
   "id": "e8638917-55e6-494b-8320-339c217d72de",
   "metadata": {},
   "outputs": [],
   "source": [
    "cv2.imshow(\"image\",image)\n",
    "cv2.waitKey(0)\n",
    "cv2.imshow(\"BLUR-MED\",med)\n",
    "cv2.waitKey(0)\n",
    "cv2.destroyAllWindows()"
   ]
  },
  {
   "cell_type": "code",
   "execution_count": null,
   "id": "c730f325-88c4-48f4-8c0c-47ea15386b59",
   "metadata": {},
   "outputs": [],
   "source": []
  },
  {
   "cell_type": "code",
   "execution_count": null,
   "id": "a748cc7f-2250-44ae-9b09-fb76905814d2",
   "metadata": {},
   "outputs": [],
   "source": []
  },
  {
   "cell_type": "code",
   "execution_count": null,
   "id": "324ef298-8fe6-40b8-a79c-c0c6aceeb9d5",
   "metadata": {},
   "outputs": [],
   "source": []
  },
  {
   "cell_type": "code",
   "execution_count": null,
   "id": "47f00cb9-b2f8-412f-a25c-7b5b265f5cad",
   "metadata": {},
   "outputs": [],
   "source": []
  },
  {
   "cell_type": "code",
   "execution_count": null,
   "id": "40cf2a74-f8c1-4304-adcc-d1cc59b82f70",
   "metadata": {},
   "outputs": [],
   "source": []
  }
 ],
 "metadata": {
  "kernelspec": {
   "display_name": "Python 3 (ipykernel)",
   "language": "python",
   "name": "python3"
  },
  "language_info": {
   "codemirror_mode": {
    "name": "ipython",
    "version": 3
   },
   "file_extension": ".py",
   "mimetype": "text/x-python",
   "name": "python",
   "nbconvert_exporter": "python",
   "pygments_lexer": "ipython3",
   "version": "3.12.11"
  }
 },
 "nbformat": 4,
 "nbformat_minor": 5
}
